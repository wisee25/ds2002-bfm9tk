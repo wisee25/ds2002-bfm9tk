{
 "cells": [
  {
   "cell_type": "code",
   "execution_count": 47,
   "id": "e3528855",
   "metadata": {},
   "outputs": [
    {
     "name": "stdout",
     "output_type": "stream",
     "text": [
      "Database created and connected!\n"
     ]
    }
   ],
   "source": [
    "import sqlite3\n",
    "\n",
    "# Create or connect to an SQLite database\n",
    "connection = sqlite3.connect('student_grades.db')\n",
    "\n",
    "# Check if the connection was successful\n",
    "print(\"Database created and connected!\")"
   ]
  },
  {
   "cell_type": "code",
   "execution_count": 48,
   "id": "7679655e",
   "metadata": {},
   "outputs": [
    {
     "name": "stdout",
     "output_type": "stream",
     "text": [
      "Cursor created!\n"
     ]
    }
   ],
   "source": [
    "# Create a cursor object\n",
    "cursor = connection.cursor()\n",
    "\n",
    "# Explanation\n",
    "print(\"Cursor created!\")"
   ]
  },
  {
   "cell_type": "code",
   "execution_count": 49,
   "id": "4637caa3",
   "metadata": {},
   "outputs": [
    {
     "name": "stdout",
     "output_type": "stream",
     "text": [
      "Students table created!\n"
     ]
    }
   ],
   "source": [
    "# Create the students table\n",
    "cursor.execute('''\n",
    "CREATE TABLE IF NOT EXISTS students (\n",
    "    student_id INTEGER PRIMARY KEY,\n",
    "    first_name TEXT,\n",
    "    last_name TEXT\n",
    ")\n",
    "''')\n",
    "\n",
    "print(\"Students table created!\")"
   ]
  },
  {
   "cell_type": "code",
   "execution_count": 50,
   "id": "8956825d",
   "metadata": {},
   "outputs": [
    {
     "name": "stdout",
     "output_type": "stream",
     "text": [
      "Grades table created!\n"
     ]
    }
   ],
   "source": [
    "# Create the grades table\n",
    "cursor.execute('''\n",
    "CREATE TABLE IF NOT EXISTS grades (\n",
    "    grades_id INTEGER PRIMARY KEY,\n",
    "    student_id TEXT,\n",
    "    subject TEXT,\n",
    "    grade INTEGER,\n",
    "    FOREIGN KEY (student_id) REFERENCES students(student_id)\n",
    ")\n",
    "''')\n",
    "\n",
    "print(\"Grades table created!\")"
   ]
  },
  {
   "cell_type": "code",
   "execution_count": 51,
   "id": "95b914d0",
   "metadata": {},
   "outputs": [
    {
     "name": "stdout",
     "output_type": "stream",
     "text": [
      "Data inserted into the students table!\n"
     ]
    }
   ],
   "source": [
    "# Sample data to insert into the students table\n",
    "students_data = [\n",
    "    (1, 'Alice', 'Johnson'),\n",
    "    (2, 'Bob', 'Smith'),\n",
    "    (3, 'Carol', 'White'),\n",
    "    (4, 'David', 'Brown'),\n",
    "    (5, 'Eve', 'Davis')\n",
    "]\n",
    "\n",
    "# Insert data into the table\n",
    "cursor.executemany('''\n",
    "INSERT INTO students (student_id, first_name, last_name) VALUES (?, ?, ?)\n",
    "''', students_data)\n",
    "\n",
    "# Commit the transaction\n",
    "connection.commit()\n",
    "\n",
    "print(\"Data inserted into the students table!\")"
   ]
  },
  {
   "cell_type": "code",
   "execution_count": 52,
   "id": "905b0561",
   "metadata": {},
   "outputs": [
    {
     "name": "stdout",
     "output_type": "stream",
     "text": [
      "Data inserted into the grades table!\n"
     ]
    }
   ],
   "source": [
    "# Sample data to insert into the grades table\n",
    "grades_data = [\n",
    "    (1, 1, 'Math', 95),\n",
    "    (2, 1, 'English', 92),\n",
    "    (3, 1, 'History', 90),\n",
    "    (4, 2, 'Math', 88),\n",
    "    (5, 2, 'English', 90),\n",
    "    (6, 2, 'History', 82),\n",
    "    (7, 3, 'Math', 76),\n",
    "    (8, 3, 'English', 85),\n",
    "    (9, 3, 'History', 82),\n",
    "    (10, 4, 'Math', 90),\n",
    "    (11, 4, 'English', 84),\n",
    "    (12, 4, 'History', 95),\n",
    "    (13, 5, 'Math', 97),\n",
    "    (14, 5, 'English', 82),\n",
    "    (15, 5, 'History', 87)\n",
    "]\n",
    "\n",
    "# Insert data into the table\n",
    "cursor.executemany('''\n",
    "INSERT INTO grades (grades_id, student_id, subject, grade) VALUES (?, ?, ?, ?)\n",
    "''', grades_data)\n",
    "\n",
    "# Commit the transaction\n",
    "connection.commit()\n",
    "\n",
    "print(\"Data inserted into the grades table!\")"
   ]
  },
  {
   "cell_type": "code",
   "execution_count": 53,
   "id": "97f9549b",
   "metadata": {},
   "outputs": [
    {
     "name": "stdout",
     "output_type": "stream",
     "text": [
      "Student names and grades:\n",
      "('Alice', 'Johnson', 95)\n",
      "('Alice', 'Johnson', 92)\n",
      "('Alice', 'Johnson', 90)\n",
      "('Bob', 'Smith', 88)\n",
      "('Bob', 'Smith', 90)\n",
      "('Bob', 'Smith', 82)\n",
      "('Carol', 'White', 76)\n",
      "('Carol', 'White', 85)\n",
      "('Carol', 'White', 82)\n",
      "('David', 'Brown', 90)\n",
      "('David', 'Brown', 84)\n",
      "('David', 'Brown', 95)\n",
      "('Eve', 'Davis', 97)\n",
      "('Eve', 'Davis', 82)\n",
      "('Eve', 'Davis', 87)\n"
     ]
    }
   ],
   "source": [
    "# Retrieve all students' names and their grades\n",
    "cursor.execute(\"SELECT students.first_name, students.last_name, grades.grade FROM students JOIN grades ON students.student_id = grades.student_id \")\n",
    "rows = cursor.fetchall()\n",
    "\n",
    "# Print the results\n",
    "print(\"Student names and grades:\")\n",
    "for row in rows:\n",
    "    print(row)"
   ]
  },
  {
   "cell_type": "code",
   "execution_count": 54,
   "id": "b3873c15",
   "metadata": {},
   "outputs": [
    {
     "name": "stdout",
     "output_type": "stream",
     "text": [
      "Average grades:\n",
      "('Alice', 'Johnson', 92.33333333333333)\n",
      "('Bob', 'Smith', 86.66666666666667)\n",
      "('Carol', 'White', 81.0)\n",
      "('David', 'Brown', 89.66666666666667)\n",
      "('Eve', 'Davis', 88.66666666666667)\n"
     ]
    }
   ],
   "source": [
    "# Find the average grade for each student\n",
    "cursor.execute('''\n",
    "                SELECT students.first_name, students.last_name, AVG(grades.grade) AS average_grade FROM students \n",
    "                JOIN grades ON students.student_id = grades.student_id \n",
    "                GROUP BY students.first_name, students.last_name''')\n",
    "rows = cursor.fetchall()\n",
    "\n",
    "# Print the results\n",
    "print(\"Average grades:\")\n",
    "for row in rows:\n",
    "    print(row)"
   ]
  },
  {
   "cell_type": "code",
   "execution_count": 58,
   "id": "51edae1b",
   "metadata": {},
   "outputs": [
    {
     "name": "stdout",
     "output_type": "stream",
     "text": [
      "Student with the highest grade: Alice Johnson\n"
     ]
    }
   ],
   "source": [
    "# Find the student with the highest average grade\n",
    "cursor.execute('''\n",
    "                SELECT students.first_name, students.last_name, AVG(grades.grade) AS average_grade FROM students\n",
    "                JOIN grades ON students.student_id = grades.student_id\n",
    "                GROUP BY students.first_name, students.last_name\n",
    "                ORDER BY average_grade DESC\n",
    "                LIMIT 1\n",
    "''')\n",
    "best_avg_grade = cursor.fetchone()\n",
    "\n",
    "# Display the result\n",
    "print(f\"Student with the highest grade: {best_avg_grade[0]} {best_avg_grade[1]}\")"
   ]
  },
  {
   "cell_type": "code",
   "execution_count": null,
   "id": "8feba021",
   "metadata": {},
   "outputs": [],
   "source": [
    "# Find the average grade for the Math subject\n",
    "cursor.execute('''\n",
    "                SELECT AVG(grades.grade) AS average_grade FROM students\n",
    "                JOIN grades ON students.student_id = grades.student_id\n",
    "                WHERE grades.subject LIKE 'Math'\n",
    "''')\n",
    "average_math_grade = cursor.fetchone()\n",
    "\n",
    "# Display the result\n",
    "print(f\"The average math grade is: {average_math_grade[0]}\")"
   ]
  },
  {
   "cell_type": "code",
   "execution_count": 59,
   "id": "53b0dfd8",
   "metadata": {},
   "outputs": [
    {
     "name": "stdout",
     "output_type": "stream",
     "text": [
      "Students who scored above 90 in any subject:\n",
      "('Alice', 'Johnson', 95)\n",
      "('David', 'Brown', 95)\n",
      "('Eve', 'Davis', 97)\n"
     ]
    }
   ],
   "source": [
    "# List all students who scored above 90 in any subject\n",
    "cursor.execute('''SELECT students.first_name, students.last_name, MAX(grades.grade) AS best_grade FROM students\n",
    "                JOIN grades ON students.student_id = grades.student_id\n",
    "                WHERE grades.grade > 90\n",
    "                GROUP BY students.first_name, students.last_name''')\n",
    "rows = cursor.fetchall()\n",
    "\n",
    "# Print the results\n",
    "print(\"Students who scored above 90 in any subject:\")\n",
    "for row in rows:\n",
    "    print(row)"
   ]
  },
  {
   "cell_type": "code",
   "execution_count": 60,
   "id": "3e0776be",
   "metadata": {},
   "outputs": [
    {
     "data": {
      "text/html": [
       "<div>\n",
       "<style scoped>\n",
       "    .dataframe tbody tr th:only-of-type {\n",
       "        vertical-align: middle;\n",
       "    }\n",
       "\n",
       "    .dataframe tbody tr th {\n",
       "        vertical-align: top;\n",
       "    }\n",
       "\n",
       "    .dataframe thead th {\n",
       "        text-align: right;\n",
       "    }\n",
       "</style>\n",
       "<table border=\"1\" class=\"dataframe\">\n",
       "  <thead>\n",
       "    <tr style=\"text-align: right;\">\n",
       "      <th></th>\n",
       "      <th>student_id</th>\n",
       "      <th>first_name</th>\n",
       "      <th>last_name</th>\n",
       "    </tr>\n",
       "  </thead>\n",
       "  <tbody>\n",
       "    <tr>\n",
       "      <th>0</th>\n",
       "      <td>1</td>\n",
       "      <td>Alice</td>\n",
       "      <td>Johnson</td>\n",
       "    </tr>\n",
       "    <tr>\n",
       "      <th>1</th>\n",
       "      <td>2</td>\n",
       "      <td>Bob</td>\n",
       "      <td>Smith</td>\n",
       "    </tr>\n",
       "    <tr>\n",
       "      <th>2</th>\n",
       "      <td>3</td>\n",
       "      <td>Carol</td>\n",
       "      <td>White</td>\n",
       "    </tr>\n",
       "    <tr>\n",
       "      <th>3</th>\n",
       "      <td>4</td>\n",
       "      <td>David</td>\n",
       "      <td>Brown</td>\n",
       "    </tr>\n",
       "    <tr>\n",
       "      <th>4</th>\n",
       "      <td>5</td>\n",
       "      <td>Eve</td>\n",
       "      <td>Davis</td>\n",
       "    </tr>\n",
       "  </tbody>\n",
       "</table>\n",
       "</div>"
      ],
      "text/plain": [
       "   student_id first_name last_name\n",
       "0           1      Alice   Johnson\n",
       "1           2        Bob     Smith\n",
       "2           3      Carol     White\n",
       "3           4      David     Brown\n",
       "4           5        Eve     Davis"
      ]
     },
     "execution_count": 60,
     "metadata": {},
     "output_type": "execute_result"
    }
   ],
   "source": [
    "import pandas as pd\n",
    "\n",
    "# Query the students data into a DataFrame\n",
    "students_df = pd.read_sql_query('SELECT * FROM students', connection)\n",
    "\n",
    "# Display the DataFrame\n",
    "students_df.head()"
   ]
  },
  {
   "cell_type": "code",
   "execution_count": 61,
   "id": "a167fa8d",
   "metadata": {},
   "outputs": [
    {
     "data": {
      "text/html": [
       "<div>\n",
       "<style scoped>\n",
       "    .dataframe tbody tr th:only-of-type {\n",
       "        vertical-align: middle;\n",
       "    }\n",
       "\n",
       "    .dataframe tbody tr th {\n",
       "        vertical-align: top;\n",
       "    }\n",
       "\n",
       "    .dataframe thead th {\n",
       "        text-align: right;\n",
       "    }\n",
       "</style>\n",
       "<table border=\"1\" class=\"dataframe\">\n",
       "  <thead>\n",
       "    <tr style=\"text-align: right;\">\n",
       "      <th></th>\n",
       "      <th>grades_id</th>\n",
       "      <th>student_id</th>\n",
       "      <th>subject</th>\n",
       "      <th>grade</th>\n",
       "    </tr>\n",
       "  </thead>\n",
       "  <tbody>\n",
       "    <tr>\n",
       "      <th>0</th>\n",
       "      <td>1</td>\n",
       "      <td>1</td>\n",
       "      <td>Math</td>\n",
       "      <td>95</td>\n",
       "    </tr>\n",
       "    <tr>\n",
       "      <th>1</th>\n",
       "      <td>2</td>\n",
       "      <td>1</td>\n",
       "      <td>English</td>\n",
       "      <td>92</td>\n",
       "    </tr>\n",
       "    <tr>\n",
       "      <th>2</th>\n",
       "      <td>3</td>\n",
       "      <td>1</td>\n",
       "      <td>History</td>\n",
       "      <td>90</td>\n",
       "    </tr>\n",
       "    <tr>\n",
       "      <th>3</th>\n",
       "      <td>4</td>\n",
       "      <td>2</td>\n",
       "      <td>Math</td>\n",
       "      <td>88</td>\n",
       "    </tr>\n",
       "    <tr>\n",
       "      <th>4</th>\n",
       "      <td>5</td>\n",
       "      <td>2</td>\n",
       "      <td>English</td>\n",
       "      <td>90</td>\n",
       "    </tr>\n",
       "  </tbody>\n",
       "</table>\n",
       "</div>"
      ],
      "text/plain": [
       "   grades_id student_id  subject  grade\n",
       "0          1          1     Math     95\n",
       "1          2          1  English     92\n",
       "2          3          1  History     90\n",
       "3          4          2     Math     88\n",
       "4          5          2  English     90"
      ]
     },
     "execution_count": 61,
     "metadata": {},
     "output_type": "execute_result"
    }
   ],
   "source": [
    "# Query the grades data into a DataFrame\n",
    "grades_df = pd.read_sql_query('SELECT * FROM grades', connection)\n",
    "\n",
    "# Display the DataFrame\n",
    "grades_df.head()"
   ]
  },
  {
   "cell_type": "code",
   "execution_count": 63,
   "id": "e08e7639",
   "metadata": {},
   "outputs": [
    {
     "data": {
      "text/html": [
       "<div>\n",
       "<style scoped>\n",
       "    .dataframe tbody tr th:only-of-type {\n",
       "        vertical-align: middle;\n",
       "    }\n",
       "\n",
       "    .dataframe tbody tr th {\n",
       "        vertical-align: top;\n",
       "    }\n",
       "\n",
       "    .dataframe thead th {\n",
       "        text-align: right;\n",
       "    }\n",
       "</style>\n",
       "<table border=\"1\" class=\"dataframe\">\n",
       "  <thead>\n",
       "    <tr style=\"text-align: right;\">\n",
       "      <th></th>\n",
       "      <th>first_name</th>\n",
       "      <th>last_name</th>\n",
       "      <th>subject</th>\n",
       "      <th>grade</th>\n",
       "    </tr>\n",
       "  </thead>\n",
       "  <tbody>\n",
       "    <tr>\n",
       "      <th>0</th>\n",
       "      <td>Alice</td>\n",
       "      <td>Johnson</td>\n",
       "      <td>Math</td>\n",
       "      <td>95</td>\n",
       "    </tr>\n",
       "    <tr>\n",
       "      <th>1</th>\n",
       "      <td>Alice</td>\n",
       "      <td>Johnson</td>\n",
       "      <td>English</td>\n",
       "      <td>92</td>\n",
       "    </tr>\n",
       "    <tr>\n",
       "      <th>2</th>\n",
       "      <td>Alice</td>\n",
       "      <td>Johnson</td>\n",
       "      <td>History</td>\n",
       "      <td>90</td>\n",
       "    </tr>\n",
       "    <tr>\n",
       "      <th>3</th>\n",
       "      <td>Bob</td>\n",
       "      <td>Smith</td>\n",
       "      <td>Math</td>\n",
       "      <td>88</td>\n",
       "    </tr>\n",
       "    <tr>\n",
       "      <th>4</th>\n",
       "      <td>Bob</td>\n",
       "      <td>Smith</td>\n",
       "      <td>English</td>\n",
       "      <td>90</td>\n",
       "    </tr>\n",
       "  </tbody>\n",
       "</table>\n",
       "</div>"
      ],
      "text/plain": [
       "  first_name last_name  subject  grade\n",
       "0      Alice   Johnson     Math     95\n",
       "1      Alice   Johnson  English     92\n",
       "2      Alice   Johnson  History     90\n",
       "3        Bob     Smith     Math     88\n",
       "4        Bob     Smith  English     90"
      ]
     },
     "execution_count": 63,
     "metadata": {},
     "output_type": "execute_result"
    }
   ],
   "source": [
    "# Join data into single DataFrame\n",
    "grades_and_students_df = pd.read_sql_query('''\n",
    "                                            SELECT students.first_name, students.last_name, grades.subject, grades.grade FROM students\n",
    "                                            JOIN grades ON students.student_id = grades.student_id\n",
    "''', connection)\n",
    "grades_and_students_df.head()"
   ]
  },
  {
   "cell_type": "code",
   "execution_count": 64,
   "id": "bae00d9e",
   "metadata": {},
   "outputs": [
    {
     "data": {
      "image/png": "[encoded data removed]",
      "text/plain": [
       "<Figure size 1000x600 with 1 Axes>"
      ]
     },
     "metadata": {},
     "output_type": "display_data"
    }
   ],
   "source": [
    "# Add a full_name column\n",
    "grades_and_students_df['full_name'] = grades_and_students_df['first_name'] + ' ' + grades_and_students_df['last_name']\n",
    "\n",
    "# Calculate average grade for each student\n",
    "average_grades = grades_and_students_df.groupby('full_name')['grade'].mean().reset_index()\n",
    "\n",
    "# Scatterplot of each student and their average grade\n",
    "import matplotlib.pyplot as plt\n",
    "\n",
    "plt.figure(figsize=(10, 6))\n",
    "plt.scatter(average_grades['full_name'], average_grades['grade'], color='blue', alpha=0.7)\n",
    "plt.xticks(rotation=90)  # Rotate x-axis labels for better readability\n",
    "plt.xlabel('Student')\n",
    "plt.ylabel('Average Grade')\n",
    "plt.title('Average Grade of Each Student')\n",
    "plt.grid(True)\n",
    "plt.tight_layout()\n",
    "plt.show()"
   ]
  },
  {
   "cell_type": "code",
   "execution_count": 69,
   "id": "2f020057",
   "metadata": {},
   "outputs": [
    {
     "data": {
      "image/png": "[encoded data removed]",
      "text/plain": [
       "<Figure size 1000x600 with 1 Axes>"
      ]
     },
     "metadata": {},
     "output_type": "display_data"
    }
   ],
   "source": [
    "# Calculate average grade for each subject\n",
    "average_grades_by_subject = grades_and_students_df.groupby('subject')['grade'].mean().reset_index()\n",
    "\n",
    "# Plot the bar chart\n",
    "plt.figure(figsize=(10, 6))\n",
    "plt.bar(average_grades_by_subject['subject'], average_grades_by_subject['grade'], color='skyblue')\n",
    "plt.xlabel('Subject')\n",
    "plt.ylabel('Average Grade')\n",
    "plt.title('Average Grade for Each Subject')\n",
    "plt.grid(axis='y', linestyle='--', alpha=0.7)\n",
    "plt.tight_layout()\n",
    "plt.show()"
   ]
  }
 ],
 "metadata": {
  "kernelspec": {
   "display_name": "Python 3 (ipykernel)",
   "language": "python",
   "name": "python3"
  },
  "language_info": {
   "codemirror_mode": {
    "name": "ipython",
    "version": 3
   },
   "file_extension": ".py",
   "mimetype": "text/x-python",
   "name": "python",
   "nbconvert_exporter": "python",
   "pygments_lexer": "ipython3",
   "version": "3.8.8"
  }
 },
 "nbformat": 4,
 "nbformat_minor": 5
}
