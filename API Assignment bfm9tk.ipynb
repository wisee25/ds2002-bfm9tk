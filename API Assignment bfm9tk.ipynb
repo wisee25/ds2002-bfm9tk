{
 "cells": [
  {
   "cell_type": "code",
   "execution_count": 1,
   "id": "3f9f5a71",
   "metadata": {},
   "outputs": [],
   "source": [
    "import json\n",
    "import pandas as pd\n",
    "import json\n",
    "import requests"
   ]
  },
  {
   "cell_type": "code",
   "execution_count": 32,
   "id": "07e426ed",
   "metadata": {
    "scrolled": true
   },
   "outputs": [
    {
     "name": "stdout",
     "output_type": "stream",
     "text": [
      "NVDA\n"
     ]
    }
   ],
   "source": [
    "#get stock from the user\n",
    "stock=input()"
   ]
  },
  {
   "cell_type": "code",
   "execution_count": 35,
   "id": "9c1632e7",
   "metadata": {},
   "outputs": [
    {
     "name": "stdout",
     "output_type": "stream",
     "text": [
      "{\"quoteResponse\":{\"result\":[{\"language\":\"en-US\",\"region\":\"US\",\"quoteType\":\"EQUITY\",\"typeDisp\":\"Equity\",\"quoteSourceName\":\"Nasdaq Real Time Price\",\"triggerable\":true,\"customPriceAlertConfidence\":\"HIGH\",\"currency\":\"USD\",\"postMarketChangePercent\":-0.687808,\"postMarketTime\":1727481599,\"postMarketPrice\":120.565,\"postMarketChange\":-0.834999,\"regularMarketChange\":-2.6900024,\"regularMarketTime\":1727467205,\"regularMarketDayHigh\":124.0,\"regularMarketDayRange\":\"119.26 - 124.0\",\"regularMarketDayLow\":119.26,\"regularMarketVolume\":271009175,\"regularMarketPreviousClose\":124.04,\"bid\":121.33,\"ask\":121.41,\"bidSize\":2,\"askSize\":2,\"fullExchangeName\":\"NasdaqGS\",\"financialCurrency\":\"USD\",\"regularMarketOpen\":123.9375,\"averageDailyVolume3Month\":326279611,\"averageDailyVolume10Day\":288561800,\"fiftyTwoWeekLowChange\":82.119995,\"fiftyTwoWeekLowChangePercent\":2.0932958,\"fiftyTwoWeekRange\":\"39.23 - 140.76\",\"fiftyTwoWeekHighChange\":-19.409996,\"fiftyTwoWeekHighChangePercent\":-0.13789426,\"fiftyTwoWeekLow\":39.23,\"fiftyTwoWeekHigh\":140.76,\"fiftyTwoWeekChangePercent\":171.09105,\"dividendDate\":1727913600,\"earningsTimestamp\":1724876403,\"earningsTimestampStart\":1732051200,\"earningsTimestampEnd\":1732569600,\"earningsCallTimestampStart\":1724878800,\"earningsCallTimestampEnd\":1724878800,\"isEarningsDateEstimate\":true,\"trailingAnnualDividendRate\":0.022,\"trailingPE\":56.705605,\"dividendRate\":0.04,\"trailingAnnualDividendYield\":1.7736213E-4,\"dividendYield\":0.03,\"tradeable\":false,\"cryptoTradeable\":false,\"exchange\":\"NMS\",\"shortName\":\"NVIDIA Corporation\",\"longName\":\"NVIDIA Corporation\",\"messageBoardId\":\"finmb_32307\",\"exchangeTimezoneName\":\"America/New_York\",\"exchangeTimezoneShortName\":\"EDT\",\"gmtOffSetMilliseconds\":-14400000,\"market\":\"us_market\",\"esgPopulated\":false,\"regularMarketChangePercent\":-2.1686573,\"regularMarketPrice\":121.35,\"marketState\":\"CLOSED\",\"epsTrailingTwelveMonths\":2.14,\"epsForward\":4.02,\"epsCurrentYear\":2.84,\"priceEpsCurrentYear\":42.728874,\"sharesOutstanding\":24529999872,\"bookValue\":2.368,\"fiftyDayAverage\":115.8466,\"fiftyDayAverageChange\":5.503395,\"fiftyDayAverageChangePercent\":0.04750588,\"twoHundredDayAverage\":94.32791,\"twoHundredDayAverageChange\":27.022087,\"twoHundredDayAverageChangePercent\":0.2864697,\"marketCap\":2976715374592,\"forwardPE\":30.186567,\"priceToBook\":51.245777,\"sourceInterval\":15,\"exchangeDataDelayedBy\":0,\"prevName\":\"Usual\",\"nameChangeDate\":\"2024-09-29\",\"averageAnalystRating\":\"1.7 - Buy\",\"hasPrePostMarketData\":true,\"firstTradeDateMilliseconds\":917015400000,\"priceHint\":2,\"displayName\":\"NVIDIA\",\"symbol\":\"NVDA\"}],\"error\":null}}\n"
     ]
    }
   ],
   "source": [
    "apikey=\"MubO1SUAW16ZuHdLoEskP6SaQnMCCvUJ75SBlvow\"\n",
    "\n",
    "url1 = \"https://yfapi.net/v6/finance/quote\"\n",
    "\n",
    "querystring1 = {\"symbols\":stock}\n",
    "\n",
    "headers1 = {\n",
    "    'x-api-key': apikey\n",
    "    }\n",
    "\n",
    "response1 = requests.request(\"GET\", url1, headers=headers1, params=querystring1)\n",
    "\n",
    "print(response1.text)"
   ]
  },
  {
   "cell_type": "code",
   "execution_count": 36,
   "id": "747f7099",
   "metadata": {},
   "outputs": [
    {
     "name": "stdout",
     "output_type": "stream",
     "text": [
      "Symbol: NVDA\n",
      "Name: NVIDIA Corporation\n",
      "Market Price: 121.35\n",
      "Fifty Day Average: 115.8466\n",
      "Fifty Two Week High: 140.76\n",
      "Fifty Two Week Low: 39.23\n"
     ]
    }
   ],
   "source": [
    "# print company info\n",
    "# I couldn't find Target Mean Price so I used fiftyDayAverage instead\n",
    "\n",
    "stock_json1 = response1.json()\n",
    "\n",
    "if stock_json1['quoteResponse']['result']:\n",
    "\n",
    "    symbol = \"Symbol: \" + str(stock_json1['quoteResponse']['result'][0][\"symbol\"])\n",
    "    name = \"Name: \" + stock_json1['quoteResponse']['result'][0][\"longName\"]\n",
    "    market_price = \"Market Price: \" + str(stock_json1['quoteResponse']['result'][0][\"regularMarketPrice\"])\n",
    "    fifty_day_avg = \"Fifty Day Average: \" + str(stock_json1['quoteResponse']['result'][0][\"fiftyDayAverage\"])\n",
    "    fifty_two_week_high = \"Fifty Two Week High: \" + str(stock_json1['quoteResponse']['result'][0][\"fiftyTwoWeekHigh\"])\n",
    "    fifty_two_week_low = \"Fifty Two Week Low: \" + str(stock_json1['quoteResponse']['result'][0][\"fiftyTwoWeekLow\"])\n",
    "\n",
    "    print(symbol)\n",
    "    print(name)\n",
    "    print(market_price)\n",
    "    print(fifty_day_average)\n",
    "    print(fifty_two_week_high)\n",
    "    print(fifty_two_week_low)\n",
    "\n",
    "else:\n",
    "    print(\"No stocks found\")"
   ]
  },
  {
   "cell_type": "code",
   "execution_count": 43,
   "id": "392cac9c",
   "metadata": {},
   "outputs": [
    {
     "name": "stdout",
     "output_type": "stream",
     "text": [
      "US\n"
     ]
    }
   ],
   "source": [
    "# Input region for trending stocks\n",
    "region=input()"
   ]
  },
  {
   "cell_type": "code",
   "execution_count": 45,
   "id": "8801c5a5",
   "metadata": {},
   "outputs": [
    {
     "name": "stdout",
     "output_type": "stream",
     "text": [
      "{\"message\":\"Missing Authentication Token\",\"hint\":\"Sign up for API key https://financeapi.net/tutorial\"}\n"
     ]
    }
   ],
   "source": [
    "# I tried for a long time to trouble shoot ways of making another call to the API but I couldn't get it to work to get the 5 trending companies\n",
    "\n",
    "apikey=\"MubO1SUAW16ZuHdLoEskP6SaQnMCCvUJ75SBlvow\"\n",
    "\n",
    "url2 = \"https://yfapi.net/v6/finance/trending\"\n",
    "\n",
    "querystring2 = {\"region\":region}\n",
    "\n",
    "headers2 = {\n",
    "    'x-api-key': apikey\n",
    "    }\n",
    "\n",
    "response2 = requests.request(\"GET\", url2, headers=headers2, params=querystring2)\n",
    "\n",
    "print(response2.text)"
   ]
  },
  {
   "cell_type": "code",
   "execution_count": 46,
   "id": "08650f92",
   "metadata": {},
   "outputs": [
    {
     "name": "stdout",
     "output_type": "stream",
     "text": [
      "         Symbol                      Name          Market Price  \\\n",
      "0  Symbol: NVDA  Name: NVIDIA Corporation  Market Price: 121.35   \n",
      "\n",
      "             Fifty Day Average                 52-Week High  \\\n",
      "0  Fifty Day Average: 115.8466  Fifty Two Week High: 140.76   \n",
      "\n",
      "                 52-Week Low  \n",
      "0  Fifty Two Week Low: 39.23  \n"
     ]
    }
   ],
   "source": [
    "# Store results in dataframe and convert to csv:\n",
    "data = {\n",
    "    \"Symbol\": [symbol],\n",
    "    \"Name\": [name],\n",
    "    \"Market Price\": [market_price],\n",
    "    \"Fifty Day Average\": [fifty_day_avg],\n",
    "    \"52-Week High\": [fifty_two_week_high],\n",
    "    \"52-Week Low\": [fifty_two_week_low]\n",
    "}\n",
    "\n",
    "df = pd.DataFrame(data)\n",
    "df.to_csv(\"stock_data.csv\", index=False)\n",
    "print(df)"
   ]
  }
 ],
 "metadata": {
  "kernelspec": {
   "display_name": "Python 3 (ipykernel)",
   "language": "python",
   "name": "python3"
  },
  "language_info": {
   "codemirror_mode": {
    "name": "ipython",
    "version": 3
   },
   "file_extension": ".py",
   "mimetype": "text/x-python",
   "name": "python",
   "nbconvert_exporter": "python",
   "pygments_lexer": "ipython3",
   "version": "3.8.8"
  }
 },
 "nbformat": 4,
 "nbformat_minor": 5
}
